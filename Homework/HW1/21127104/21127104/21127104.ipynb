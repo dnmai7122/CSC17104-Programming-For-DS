{
 "cells": [
  {
   "cell_type": "markdown",
   "id": "7433a7f8",
   "metadata": {},
   "source": [
    "# BT01: So sánh thời gian chạy của chương trình nhân ma trận với: C, Python, Numpy.\n",
    "\n",
    "- Họ và tên: Đoàn Ngọc Mai\n",
    "- MSSV: 21127104"
   ]
  },
  {
   "cell_type": "markdown",
   "id": "92dcab6f-03f6-4298-9420-60d1bdca594c",
   "metadata": {},
   "source": [
    "## 1. Khai báo Thư viện"
   ]
  },
  {
   "cell_type": "code",
   "execution_count": null,
   "id": "8c372418-220a-4ff4-a129-989d0de1dd27",
   "metadata": {},
   "outputs": [],
   "source": [
    "import numpy as np\n",
    "import random\n",
    "import time\n",
    "import pandas as pd\n",
    "import matplotlib.pyplot as plt"
   ]
  },
  {
   "cell_type": "markdown",
   "id": "e8f854cd",
   "metadata": {},
   "source": [
    "## 2. Phân tích chương trình"
   ]
  },
  {
   "cell_type": "markdown",
   "id": "cba1ee7e",
   "metadata": {},
   "source": [
    "### 2.1 C++"
   ]
  },
  {
   "cell_type": "markdown",
   "id": "f905bf41",
   "metadata": {},
   "source": [
    "C++ là một ngôn ngữ biên dịch nên có tốc độ thực thi nhanh. Tuy nhiên, khi N tăng lên, thời gian thực thi cũng tăng lên do độ phức tạp của thuật toán nhân ma trận là \\(O(N^3)\\). \n",
    "\n",
    "**Ý tưởng:** \n",
    "* Hàm `multiply`: Thực hiện việc nhân ma trận bằng ba vòng lặp for theo công thức `c[i][j] += a[i][k] * b[k][j]`. \n",
    "* Biên dịch mã C++ và tạo ra một tệp thực thi tên là `run_time_cpp`. Sau đó, bạn chạy tệp thực thi này và chuyển đầu ra vào tệp `results.txt`. Tiếp đến, chương trình trích xuất thời gian thực thi từ mỗi dòng. Giá trị thời gian được lưu vào danh sách `cpp_times`.\n",
    "\n",
    "**Ưu điểm:**\n",
    "- Thực hiện tích chất lượng cao và tối ưu hóa.\n",
    "- Thời gian thực thi nhanh hơn Python thuần và chậm hơn NumPy.\n",
    "\n",
    "**Nhược điểm:**\n",
    "- Khi tăng N, do độ phức tạp của thuật toán mà thời gian gia tăng đáng kể. "
   ]
  },
  {
   "cell_type": "code",
   "execution_count": null,
   "id": "75bcde98-07f3-46c2-b074-894e927f1cac",
   "metadata": {},
   "outputs": [],
   "source": [
    "!g++ 21127104.cpp -o run_time_cpp\n",
    "!./run_time_cpp > results.txt"
   ]
  },
  {
   "cell_type": "code",
   "execution_count": null,
   "id": "354aed0f-6d27-4058-b86b-ff44889234a3",
   "metadata": {},
   "outputs": [],
   "source": [
    "cpp_times = []\n",
    "\n",
    "with open('results.txt', 'r') as file:\n",
    "    lines = file.readlines()\n",
    "    for line in lines:\n",
    "        # Lấy giá trị thời gian sau chuỗi \"seconds\"\n",
    "        time_value = float(line.split()[-2])\n",
    "        cpp_times.append(time_value)\n"
   ]
  },
  {
   "cell_type": "markdown",
   "id": "c8380ca3",
   "metadata": {},
   "source": [
    "### 2.2 Python thuần và Python với Numpy"
   ]
  },
  {
   "cell_type": "markdown",
   "id": "70e8fa06-78ef-430e-b4e1-707872214bdf",
   "metadata": {},
   "source": [
    "### 2.2a Python thuần"
   ]
  },
  {
   "cell_type": "markdown",
   "id": "95533504",
   "metadata": {},
   "source": [
    "Python là một ngôn ngữ thông dịch, nên thời gian thực thi thường lâu hơn so với các ngôn ngữ biên dịch như C++. Điều này có thể được thấy rõ qua dữ liệu, khi N tăng, thời gian thực thi của Python thuần tăng lên rất nhiều.\n",
    "\n",
    "**Ý tưởng:** Sử dụng Python thuần để tính tích ma trận theo cùng công thức như C++.\n",
    "* Hàm `multiply_pure_python_optimized`: thực hiện phép nhân giữa hai ma trận a và b. Bạn đã tối ưu hóa việc tính toán bằng cách giữ biến sum_value để tích luỹ tổng, thay vì thực hiện việc cộng dồn trực tiếp trên ma trận kết quả.\n",
    "\n",
    "**Ưu điểm:**\n",
    "* Dễ đọc và hiểu.\n",
    "\n",
    "**Nhược điểm:**\n",
    "* Thời gian thực thi kém hơn C++ và NumPy, đặc biệt với kích thước lớn."
   ]
  },
  {
   "cell_type": "markdown",
   "id": "0143aac8-284f-4777-ab3a-960abcb30c5b",
   "metadata": {},
   "source": [
    "### 2.2b Python với Numpy"
   ]
  },
  {
   "cell_type": "markdown",
   "id": "e947b6ce",
   "metadata": {},
   "source": [
    "Numpy là một thư viện tối ưu cho việc tính toán khoa học trong Python. Các phép toán ma trận trong Numpy thường được tối ưu hóa và thực thi nhanh hơn nhiều so với Python thuần. Điều này rõ ràng qua dữ liệu, thậm chí với N=1000, Numpy chỉ mất 0.0xx giây để nhân hai ma trận.\n",
    "\n",
    "**Ý tưởng:** Sử dụng thư viện NumPy, cho phép tính toán mảng nhanh hơn trong Python.\n",
    "\n",
    "**Ưu điểm:**\n",
    "* Thời gian thực thi nhanh hơn Python thuần và C++, đặc biệt với kích thước lớn.\n",
    "* Dễ sử dụng với các phép toán ma trận.\n",
    "\n",
    "**Nhược điểm:**\n",
    "* Cần cài đặt thêm thư viện NumPy."
   ]
  },
  {
   "cell_type": "code",
   "execution_count": null,
   "id": "c0d1f66f-8184-47d6-a5bf-82de6f0e5ffe",
   "metadata": {},
   "outputs": [],
   "source": [
    "def generate_random_matrix(N):\n",
    "    return [[random.random() for _ in range(N)] for _ in range(N)]\n",
    "\n",
    "def multiply_pure_python_optimized(a, b, N):\n",
    "    c = [[0 for _ in range(N)] for _ in range(N)]\n",
    "    for i in range(N):\n",
    "        for j in range(N):\n",
    "            sum_value = 0\n",
    "            for k in range(N):\n",
    "                sum_value += a[i][k] * b[k][j]\n",
    "            c[i][j] = sum_value\n",
    "    return c\n",
    "\n",
    "if __name__ == \"__main__\":\n",
    "    N_values = [10, 25, 50, 75, 100, 250, 500, 750, 1000, 1250]\n",
    "\n",
    "    python_times = []\n",
    "    numpy_times = []\n",
    "\n",
    "    for N in N_values:\n",
    "        # For Pure Python Optimized with random values\n",
    "        a_python = generate_random_matrix(N)\n",
    "        b_python = generate_random_matrix(N)\n",
    "\n",
    "        # For Numpy with random values\n",
    "        a_numpy = np.random.rand(N, N)\n",
    "        b_numpy = np.random.rand(N, N)\n",
    "\n",
    "        start_python = time.time()\n",
    "        c_python = multiply_pure_python_optimized(a_python, b_python, N)\n",
    "        end_python = time.time()\n",
    "        python_times.append(end_python - start_python)\n",
    "\n",
    "        start_numpy = time.time()\n",
    "        c_numpy = np.dot(a_numpy, b_numpy)\n",
    "        end_numpy = time.time()\n",
    "        numpy_times.append(end_numpy - start_numpy)\n",
    "\n",
    "    for i in range(len(N_values)):\n",
    "        print(f\"N = {N_values[i]} - Pure Python: {python_times[i]} seconds, Numpy: {numpy_times[i]} seconds\")\n"
   ]
  },
  {
   "cell_type": "markdown",
   "id": "231790f5",
   "metadata": {},
   "source": [
    "## 3. Trực quan hóa thời gian thực thi chương trình"
   ]
  },
  {
   "cell_type": "code",
   "execution_count": null,
   "id": "c125ce93-e6cc-461c-b5f3-492a7e72706e",
   "metadata": {},
   "outputs": [],
   "source": [
    "# Tạo DataFrame\n",
    "df = pd.DataFrame({\n",
    "    'N': N_values,\n",
    "    'C++': cpp_times,\n",
    "    'Pure Python': python_times,\n",
    "    'Numpy': numpy_times\n",
    "})\n",
    "\n",
    "# In ra bảng dữ liệu\n",
    "print(df)\n",
    "\n",
    "# Vẽ biểu đồ\n",
    "plt.figure(figsize=(12, 6))\n",
    "plt.plot(df['N'], df['C++'], marker='o', label='C++')\n",
    "plt.plot(df['N'], df['Pure Python'], marker='o', label='Pure Python')\n",
    "plt.plot(df['N'], df['Numpy'], marker='o', label='Numpy')\n",
    "plt.xlabel('Size N')\n",
    "plt.ylabel('Execution Time (seconds)')\n",
    "plt.title('Execution Time Comparison')\n",
    "plt.legend()\n",
    "plt.grid(True)\n",
    "plt.show()\n"
   ]
  },
  {
   "cell_type": "markdown",
   "id": "c0ed5f9c",
   "metadata": {},
   "source": [
    "## 4. So sánh thời gian thực thi của từng chương trình"
   ]
  },
  {
   "cell_type": "markdown",
   "id": "221d9d7e",
   "metadata": {},
   "source": [
    "* C++: Thời gian thực thi tăng nhanh khi kích thước đầu vào tăng. Đối với N nhỏ, C++ nhanh hơn Python thuần và Numpy. Tuy nhiên, khi N tăng, thời gian thực thi của C++ tăng nhanh. Do đó C++ có thể tối ưu hóa hiệu suất tốt ở mức N nhỏ, nhưng khi xử lý dữ liệu lớn, nó có thể không được tối ưu như các phương pháp khác.\n",
    "* Pytho thuần: Thời gian thực thi cũng tăng nhanh khi N tăng. Tại mọi điểm dữ liệu, Python thuần có thời gian chạy chậm hơn cả C++ và Nump Điều này không ngạc nhiên vì Python là một ngôn ngữ thông dịch và thường chậm hơn so với ngôn ngữ biên dịch như C++..* Python với \n",
    "* Python với Numpy: Dù thời gian thực thi của Numpy tăng khi N tăng, nó vẫn duy trì mức thời gian thực thi thấp nhất trong ba phương pháp, đặc biệt ở các giá trị N  Numpy được thiết kế để xử lý hiệu quả các phép toán ma trận và số học trên dữ liệu lớn. Kết quả cho thấy rằng Numpy thực sự nhanh hơn nhiều so với Python thuần và C++ khi xử lý dữ liệu lớn.lớn."
   ]
  },
  {
   "cell_type": "markdown",
   "id": "5f5f2e2f",
   "metadata": {},
   "source": [
    "## 5. Kết luận"
   ]
  },
  {
   "cell_type": "markdown",
   "id": "6676a10c",
   "metadata": {},
   "source": [
    "* Nếu yêu cầu hiệu suất cao và không muốn sử dụng thư viện bên ngoài, việc viết chương trình bằng C++ là một lựa chọn tốt.\n",
    "* Sự khác biệt rõ ràng về thời gian thực thi giữa Python thuần và Numpy cho thấy rằng việc tối ưu hóa tính toán ma trận có ý nghĩa quan trọng, đặc biệt trong các ứng dụng yêu cầu hiệu suất cao.\n",
    "* Đối với các tác vụ tính toán ma trận, nên sử dụng thư viện Numpy trên Python để đạt hiệu suất tối ưu.\n",
    "* Nếu bạn muốn dễ đọc, không cần tối ưu hóa tối đa và không muốn biên dịch, hãy sử dụng Python thuần.\n",
    "* Nếu bạn cần thực hiện tính toán ma trận một cách nhanh chóng và dễ dàng, hãy sử dụng NumPy."
   ]
  }
 ],
 "metadata": {
  "kernelspec": {
   "display_name": "Python 3 (ipykernel)",
   "language": "python",
   "name": "python3"
  },
  "language_info": {
   "codemirror_mode": {
    "name": "ipython",
    "version": 3
   },
   "file_extension": ".py",
   "mimetype": "text/x-python",
   "name": "python",
   "nbconvert_exporter": "python",
   "pygments_lexer": "ipython3",
   "version": "3.11.5"
  }
 },
 "nbformat": 4,
 "nbformat_minor": 5
}
